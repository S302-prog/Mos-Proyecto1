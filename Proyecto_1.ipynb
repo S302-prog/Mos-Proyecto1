{
 "cells": [
  {
   "cell_type": "markdown",
   "id": "913987e8",
   "metadata": {},
   "source": [
    "### Supuestos del modelo "
   ]
  },
  {
   "cell_type": "markdown",
   "id": "f8336cdc",
   "metadata": {},
   "source": [
    "### Conjuntos"
   ]
  },
  {
   "cell_type": "markdown",
   "id": "4d1d4f9c",
   "metadata": {},
   "source": [
    "### Parametros"
   ]
  },
  {
   "cell_type": "markdown",
   "id": "77256aa2",
   "metadata": {},
   "source": [
    "### Variable de decision"
   ]
  },
  {
   "cell_type": "markdown",
   "id": "3a4bc805",
   "metadata": {},
   "source": [
    "### Funcion Objetivo"
   ]
  },
  {
   "cell_type": "markdown",
   "id": "dcf68f00",
   "metadata": {},
   "source": [
    "### Restricciones"
   ]
  }
 ],
 "metadata": {
  "language_info": {
   "name": "python"
  }
 },
 "nbformat": 4,
 "nbformat_minor": 5
}
