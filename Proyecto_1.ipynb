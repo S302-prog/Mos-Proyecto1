{
 "cells": [
  {
   "cell_type": "markdown",
   "id": "913987e8",
   "metadata": {},
   "source": [
    "### Supuestos del modelo "
   ]
  },
  {
   "cell_type": "markdown",
   "id": "f8336cdc",
   "metadata": {},
   "source": [
    "### Conjuntos"
   ]
  },
  {
   "cell_type": "markdown",
   "id": "7175e316",
   "metadata": {},
   "source": [
    "* Centros de distribucion \n",
    "\n",
    "$$ Centro\\:de\\:Distribucion = [CD0] $$\n",
    "\n",
    "* Clientes \n",
    "\n",
    "$$ Clientes = [C1, C2, C3, C4] $$\n",
    "\n",
    "* Vehiculos\n",
    "\n",
    "$$ Vehiculos = [V1, V2, V3]$$"
   ]
  },
  {
   "cell_type": "markdown",
   "id": "4d1d4f9c",
   "metadata": {},
   "source": [
    "### Parametros"
   ]
  },
  {
   "cell_type": "markdown",
   "id": "5d1ea406",
   "metadata": {},
   "source": [
    "* Latitud del centro de distribucion \n",
    "\n",
    "$$ La_j $$\n",
    "\n",
    "* Longitud del centro de distribucion \n",
    "\n",
    "$$ Lo_j $$\n",
    "\n",
    "* Latitud del cliente\n",
    "\n",
    "$$ La_i $$\n",
    "\n",
    "* Longitud del cliente\n",
    "\n",
    "$$ Lo_i $$\n",
    "\n",
    "* Distancia entre el centro de distribucion y clientes\n",
    "\n",
    "$$ DD_{j,i}$$\n",
    "\n",
    "* Distancia entre clientes\n",
    "\n",
    "$$ DC_{i,i}$$\n",
    "\n",
    "* Demanda del cliente en kg \n",
    "\n",
    "$$ D_i $$\n",
    "\n",
    "* Capacidad del vehiculo en kg\n",
    "\n",
    "$$ C_v $$\n",
    "\n",
    "* Autonomia del vehiculo en km\n",
    "\n",
    "$$ A_v $$\n",
    "\n",
    "* Rendimiento del vehicuclo en km/litro\n",
    "\n",
    "$$ R_v $$\n",
    "\n",
    "* Precio del combustible por litro \n",
    "\n",
    "$$ P $$\n",
    "\n",
    "* Costo de transporte por kilometro\n",
    "\n",
    "$$ CT $$\n",
    "\n",
    "* Costo de mantenimiento por kilometro \n",
    "\n",
    "$$ CM $$\n",
    "\n",
    "* Costo operativo por vehiculo por dia\n",
    "\n",
    "$$ CO $$"
   ]
  },
  {
   "cell_type": "markdown",
   "id": "77256aa2",
   "metadata": {},
   "source": [
    "### Variable de decision"
   ]
  },
  {
   "cell_type": "markdown",
   "id": "91bb98d1",
   "metadata": {},
   "source": [
    "* $ x_{v,j,i} $ Kilogramos transportados en un camion v desde el centro de distribucion j hasta un cliente i \n",
    "\n",
    "* $ y_{v,ii,i} $ Kilogramos transportados en un camion v desde un cliente ii hasta otro cliente i "
   ]
  },
  {
   "cell_type": "markdown",
   "id": "3a4bc805",
   "metadata": {},
   "source": [
    "### Funcion Objetivo"
   ]
  },
  {
   "cell_type": "markdown",
   "id": "470a7183",
   "metadata": {},
   "source": []
  },
  {
   "cell_type": "markdown",
   "id": "dcf68f00",
   "metadata": {},
   "source": [
    "### Restricciones"
   ]
  }
 ],
 "metadata": {
  "language_info": {
   "name": "python"
  }
 },
 "nbformat": 4,
 "nbformat_minor": 5
}
